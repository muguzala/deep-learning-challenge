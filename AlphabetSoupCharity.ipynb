{
  "cells": [
    {
      "cell_type": "markdown",
      "metadata": {
        "id": "SFseHyemArJ6"
      },
      "source": [
        "## Preprocessing"
      ]
    },
    {
      "cell_type": "code",
      "execution_count": 1,
      "metadata": {
        "colab": {
          "base_uri": "https://localhost:8080/",
          "height": 206
        },
        "id": "DRq6xcndArJ-",
        "outputId": "d2d509ac-430f-438e-f9d5-9bd3febe25f3"
      },
      "outputs": [
        {
          "output_type": "execute_result",
          "data": {
            "text/plain": [
              "        EIN                                      NAME APPLICATION_TYPE  \\\n",
              "0  10520599              BLUE KNIGHTS MOTORCYCLE CLUB              T10   \n",
              "1  10531628    AMERICAN CHESAPEAKE CLUB CHARITABLE TR               T3   \n",
              "2  10547893        ST CLOUD PROFESSIONAL FIREFIGHTERS               T5   \n",
              "3  10553066            SOUTHSIDE ATHLETIC ASSOCIATION               T3   \n",
              "4  10556103  GENETIC RESEARCH INSTITUTE OF THE DESERT               T3   \n",
              "\n",
              "        AFFILIATION CLASSIFICATION      USE_CASE  ORGANIZATION  STATUS  \\\n",
              "0       Independent          C1000    ProductDev   Association       1   \n",
              "1       Independent          C2000  Preservation  Co-operative       1   \n",
              "2  CompanySponsored          C3000    ProductDev   Association       1   \n",
              "3  CompanySponsored          C2000  Preservation         Trust       1   \n",
              "4       Independent          C1000     Heathcare         Trust       1   \n",
              "\n",
              "      INCOME_AMT SPECIAL_CONSIDERATIONS  ASK_AMT  IS_SUCCESSFUL  \n",
              "0              0                      N     5000              1  \n",
              "1         1-9999                      N   108590              1  \n",
              "2              0                      N     5000              0  \n",
              "3    10000-24999                      N     6692              1  \n",
              "4  100000-499999                      N   142590              1  "
            ],
            "text/html": [
              "\n",
              "\n",
              "  <div id=\"df-59ecd0ef-51cd-46ee-8cf2-eea7224ba829\">\n",
              "    <div class=\"colab-df-container\">\n",
              "      <div>\n",
              "<style scoped>\n",
              "    .dataframe tbody tr th:only-of-type {\n",
              "        vertical-align: middle;\n",
              "    }\n",
              "\n",
              "    .dataframe tbody tr th {\n",
              "        vertical-align: top;\n",
              "    }\n",
              "\n",
              "    .dataframe thead th {\n",
              "        text-align: right;\n",
              "    }\n",
              "</style>\n",
              "<table border=\"1\" class=\"dataframe\">\n",
              "  <thead>\n",
              "    <tr style=\"text-align: right;\">\n",
              "      <th></th>\n",
              "      <th>EIN</th>\n",
              "      <th>NAME</th>\n",
              "      <th>APPLICATION_TYPE</th>\n",
              "      <th>AFFILIATION</th>\n",
              "      <th>CLASSIFICATION</th>\n",
              "      <th>USE_CASE</th>\n",
              "      <th>ORGANIZATION</th>\n",
              "      <th>STATUS</th>\n",
              "      <th>INCOME_AMT</th>\n",
              "      <th>SPECIAL_CONSIDERATIONS</th>\n",
              "      <th>ASK_AMT</th>\n",
              "      <th>IS_SUCCESSFUL</th>\n",
              "    </tr>\n",
              "  </thead>\n",
              "  <tbody>\n",
              "    <tr>\n",
              "      <th>0</th>\n",
              "      <td>10520599</td>\n",
              "      <td>BLUE KNIGHTS MOTORCYCLE CLUB</td>\n",
              "      <td>T10</td>\n",
              "      <td>Independent</td>\n",
              "      <td>C1000</td>\n",
              "      <td>ProductDev</td>\n",
              "      <td>Association</td>\n",
              "      <td>1</td>\n",
              "      <td>0</td>\n",
              "      <td>N</td>\n",
              "      <td>5000</td>\n",
              "      <td>1</td>\n",
              "    </tr>\n",
              "    <tr>\n",
              "      <th>1</th>\n",
              "      <td>10531628</td>\n",
              "      <td>AMERICAN CHESAPEAKE CLUB CHARITABLE TR</td>\n",
              "      <td>T3</td>\n",
              "      <td>Independent</td>\n",
              "      <td>C2000</td>\n",
              "      <td>Preservation</td>\n",
              "      <td>Co-operative</td>\n",
              "      <td>1</td>\n",
              "      <td>1-9999</td>\n",
              "      <td>N</td>\n",
              "      <td>108590</td>\n",
              "      <td>1</td>\n",
              "    </tr>\n",
              "    <tr>\n",
              "      <th>2</th>\n",
              "      <td>10547893</td>\n",
              "      <td>ST CLOUD PROFESSIONAL FIREFIGHTERS</td>\n",
              "      <td>T5</td>\n",
              "      <td>CompanySponsored</td>\n",
              "      <td>C3000</td>\n",
              "      <td>ProductDev</td>\n",
              "      <td>Association</td>\n",
              "      <td>1</td>\n",
              "      <td>0</td>\n",
              "      <td>N</td>\n",
              "      <td>5000</td>\n",
              "      <td>0</td>\n",
              "    </tr>\n",
              "    <tr>\n",
              "      <th>3</th>\n",
              "      <td>10553066</td>\n",
              "      <td>SOUTHSIDE ATHLETIC ASSOCIATION</td>\n",
              "      <td>T3</td>\n",
              "      <td>CompanySponsored</td>\n",
              "      <td>C2000</td>\n",
              "      <td>Preservation</td>\n",
              "      <td>Trust</td>\n",
              "      <td>1</td>\n",
              "      <td>10000-24999</td>\n",
              "      <td>N</td>\n",
              "      <td>6692</td>\n",
              "      <td>1</td>\n",
              "    </tr>\n",
              "    <tr>\n",
              "      <th>4</th>\n",
              "      <td>10556103</td>\n",
              "      <td>GENETIC RESEARCH INSTITUTE OF THE DESERT</td>\n",
              "      <td>T3</td>\n",
              "      <td>Independent</td>\n",
              "      <td>C1000</td>\n",
              "      <td>Heathcare</td>\n",
              "      <td>Trust</td>\n",
              "      <td>1</td>\n",
              "      <td>100000-499999</td>\n",
              "      <td>N</td>\n",
              "      <td>142590</td>\n",
              "      <td>1</td>\n",
              "    </tr>\n",
              "  </tbody>\n",
              "</table>\n",
              "</div>\n",
              "      <button class=\"colab-df-convert\" onclick=\"convertToInteractive('df-59ecd0ef-51cd-46ee-8cf2-eea7224ba829')\"\n",
              "              title=\"Convert this dataframe to an interactive table.\"\n",
              "              style=\"display:none;\">\n",
              "\n",
              "  <svg xmlns=\"http://www.w3.org/2000/svg\" height=\"24px\"viewBox=\"0 0 24 24\"\n",
              "       width=\"24px\">\n",
              "    <path d=\"M0 0h24v24H0V0z\" fill=\"none\"/>\n",
              "    <path d=\"M18.56 5.44l.94 2.06.94-2.06 2.06-.94-2.06-.94-.94-2.06-.94 2.06-2.06.94zm-11 1L8.5 8.5l.94-2.06 2.06-.94-2.06-.94L8.5 2.5l-.94 2.06-2.06.94zm10 10l.94 2.06.94-2.06 2.06-.94-2.06-.94-.94-2.06-.94 2.06-2.06.94z\"/><path d=\"M17.41 7.96l-1.37-1.37c-.4-.4-.92-.59-1.43-.59-.52 0-1.04.2-1.43.59L10.3 9.45l-7.72 7.72c-.78.78-.78 2.05 0 2.83L4 21.41c.39.39.9.59 1.41.59.51 0 1.02-.2 1.41-.59l7.78-7.78 2.81-2.81c.8-.78.8-2.07 0-2.86zM5.41 20L4 18.59l7.72-7.72 1.47 1.35L5.41 20z\"/>\n",
              "  </svg>\n",
              "      </button>\n",
              "\n",
              "\n",
              "\n",
              "    <div id=\"df-595cf061-8330-49c5-989c-5de3efe4fd4e\">\n",
              "      <button class=\"colab-df-quickchart\" onclick=\"quickchart('df-595cf061-8330-49c5-989c-5de3efe4fd4e')\"\n",
              "              title=\"Suggest charts.\"\n",
              "              style=\"display:none;\">\n",
              "\n",
              "<svg xmlns=\"http://www.w3.org/2000/svg\" height=\"24px\"viewBox=\"0 0 24 24\"\n",
              "     width=\"24px\">\n",
              "    <g>\n",
              "        <path d=\"M19 3H5c-1.1 0-2 .9-2 2v14c0 1.1.9 2 2 2h14c1.1 0 2-.9 2-2V5c0-1.1-.9-2-2-2zM9 17H7v-7h2v7zm4 0h-2V7h2v10zm4 0h-2v-4h2v4z\"/>\n",
              "    </g>\n",
              "</svg>\n",
              "      </button>\n",
              "    </div>\n",
              "\n",
              "<style>\n",
              "  .colab-df-quickchart {\n",
              "    background-color: #E8F0FE;\n",
              "    border: none;\n",
              "    border-radius: 50%;\n",
              "    cursor: pointer;\n",
              "    display: none;\n",
              "    fill: #1967D2;\n",
              "    height: 32px;\n",
              "    padding: 0 0 0 0;\n",
              "    width: 32px;\n",
              "  }\n",
              "\n",
              "  .colab-df-quickchart:hover {\n",
              "    background-color: #E2EBFA;\n",
              "    box-shadow: 0px 1px 2px rgba(60, 64, 67, 0.3), 0px 1px 3px 1px rgba(60, 64, 67, 0.15);\n",
              "    fill: #174EA6;\n",
              "  }\n",
              "\n",
              "  [theme=dark] .colab-df-quickchart {\n",
              "    background-color: #3B4455;\n",
              "    fill: #D2E3FC;\n",
              "  }\n",
              "\n",
              "  [theme=dark] .colab-df-quickchart:hover {\n",
              "    background-color: #434B5C;\n",
              "    box-shadow: 0px 1px 3px 1px rgba(0, 0, 0, 0.15);\n",
              "    filter: drop-shadow(0px 1px 2px rgba(0, 0, 0, 0.3));\n",
              "    fill: #FFFFFF;\n",
              "  }\n",
              "</style>\n",
              "\n",
              "    <script>\n",
              "      async function quickchart(key) {\n",
              "        const containerElement = document.querySelector('#' + key);\n",
              "        const charts = await google.colab.kernel.invokeFunction(\n",
              "            'suggestCharts', [key], {});\n",
              "      }\n",
              "    </script>\n",
              "\n",
              "      <script>\n",
              "\n",
              "function displayQuickchartButton(domScope) {\n",
              "  let quickchartButtonEl =\n",
              "    domScope.querySelector('#df-595cf061-8330-49c5-989c-5de3efe4fd4e button.colab-df-quickchart');\n",
              "  quickchartButtonEl.style.display =\n",
              "    google.colab.kernel.accessAllowed ? 'block' : 'none';\n",
              "}\n",
              "\n",
              "        displayQuickchartButton(document);\n",
              "      </script>\n",
              "      <style>\n",
              "    .colab-df-container {\n",
              "      display:flex;\n",
              "      flex-wrap:wrap;\n",
              "      gap: 12px;\n",
              "    }\n",
              "\n",
              "    .colab-df-convert {\n",
              "      background-color: #E8F0FE;\n",
              "      border: none;\n",
              "      border-radius: 50%;\n",
              "      cursor: pointer;\n",
              "      display: none;\n",
              "      fill: #1967D2;\n",
              "      height: 32px;\n",
              "      padding: 0 0 0 0;\n",
              "      width: 32px;\n",
              "    }\n",
              "\n",
              "    .colab-df-convert:hover {\n",
              "      background-color: #E2EBFA;\n",
              "      box-shadow: 0px 1px 2px rgba(60, 64, 67, 0.3), 0px 1px 3px 1px rgba(60, 64, 67, 0.15);\n",
              "      fill: #174EA6;\n",
              "    }\n",
              "\n",
              "    [theme=dark] .colab-df-convert {\n",
              "      background-color: #3B4455;\n",
              "      fill: #D2E3FC;\n",
              "    }\n",
              "\n",
              "    [theme=dark] .colab-df-convert:hover {\n",
              "      background-color: #434B5C;\n",
              "      box-shadow: 0px 1px 3px 1px rgba(0, 0, 0, 0.15);\n",
              "      filter: drop-shadow(0px 1px 2px rgba(0, 0, 0, 0.3));\n",
              "      fill: #FFFFFF;\n",
              "    }\n",
              "  </style>\n",
              "\n",
              "      <script>\n",
              "        const buttonEl =\n",
              "          document.querySelector('#df-59ecd0ef-51cd-46ee-8cf2-eea7224ba829 button.colab-df-convert');\n",
              "        buttonEl.style.display =\n",
              "          google.colab.kernel.accessAllowed ? 'block' : 'none';\n",
              "\n",
              "        async function convertToInteractive(key) {\n",
              "          const element = document.querySelector('#df-59ecd0ef-51cd-46ee-8cf2-eea7224ba829');\n",
              "          const dataTable =\n",
              "            await google.colab.kernel.invokeFunction('convertToInteractive',\n",
              "                                                     [key], {});\n",
              "          if (!dataTable) return;\n",
              "\n",
              "          const docLinkHtml = 'Like what you see? Visit the ' +\n",
              "            '<a target=\"_blank\" href=https://colab.research.google.com/notebooks/data_table.ipynb>data table notebook</a>'\n",
              "            + ' to learn more about interactive tables.';\n",
              "          element.innerHTML = '';\n",
              "          dataTable['output_type'] = 'display_data';\n",
              "          await google.colab.output.renderOutput(dataTable, element);\n",
              "          const docLink = document.createElement('div');\n",
              "          docLink.innerHTML = docLinkHtml;\n",
              "          element.appendChild(docLink);\n",
              "        }\n",
              "      </script>\n",
              "    </div>\n",
              "  </div>\n"
            ]
          },
          "metadata": {},
          "execution_count": 1
        }
      ],
      "source": [
        "# Import our dependencies\n",
        "from sklearn.model_selection import train_test_split\n",
        "from sklearn.preprocessing import StandardScaler\n",
        "import pandas as pd\n",
        "import tensorflow as tf\n",
        "\n",
        "#  Import and read the charity_data.csv.\n",
        "import pandas as pd\n",
        "application_df = pd.read_csv(\"https://static.bc-edx.com/data/dl-1-2/m21/lms/starter/charity_data.csv\")\n",
        "application_df.head()"
      ]
    },
    {
      "cell_type": "code",
      "execution_count": 2,
      "metadata": {
        "colab": {
          "base_uri": "https://localhost:8080/"
        },
        "id": "2gwxFuXtArKA",
        "outputId": "c2b142a1-c9b5-45e0-e0b4-35c12aaddbf5"
      },
      "outputs": [
        {
          "output_type": "stream",
          "name": "stdout",
          "text": [
            "  APPLICATION_TYPE       AFFILIATION CLASSIFICATION      USE_CASE  \\\n",
            "0              T10       Independent          C1000    ProductDev   \n",
            "1               T3       Independent          C2000  Preservation   \n",
            "2               T5  CompanySponsored          C3000    ProductDev   \n",
            "3               T3  CompanySponsored          C2000  Preservation   \n",
            "4               T3       Independent          C1000     Heathcare   \n",
            "\n",
            "   ORGANIZATION  STATUS     INCOME_AMT SPECIAL_CONSIDERATIONS  ASK_AMT  \\\n",
            "0   Association       1              0                      N     5000   \n",
            "1  Co-operative       1         1-9999                      N   108590   \n",
            "2   Association       1              0                      N     5000   \n",
            "3         Trust       1    10000-24999                      N     6692   \n",
            "4         Trust       1  100000-499999                      N   142590   \n",
            "\n",
            "   IS_SUCCESSFUL  \n",
            "0              1  \n",
            "1              1  \n",
            "2              0  \n",
            "3              1  \n",
            "4              1  \n"
          ]
        }
      ],
      "source": [
        "# Drop the non-beneficial ID columns, 'EIN' and 'NAME'.\n",
        "application_df.drop(columns=['EIN', 'NAME'], inplace=True)\n",
        "print(application_df.head())"
      ]
    },
    {
      "cell_type": "code",
      "execution_count": 3,
      "metadata": {
        "colab": {
          "base_uri": "https://localhost:8080/"
        },
        "id": "eY4vaziKArKB",
        "outputId": "07351088-86f1-4684-f047-0caebd60019c"
      },
      "outputs": [
        {
          "output_type": "stream",
          "name": "stdout",
          "text": [
            "APPLICATION_TYPE            17\n",
            "AFFILIATION                  6\n",
            "CLASSIFICATION              71\n",
            "USE_CASE                     5\n",
            "ORGANIZATION                 4\n",
            "STATUS                       2\n",
            "INCOME_AMT                   9\n",
            "SPECIAL_CONSIDERATIONS       2\n",
            "ASK_AMT                   8747\n",
            "IS_SUCCESSFUL                2\n",
            "dtype: int64\n"
          ]
        }
      ],
      "source": [
        "# Determine the number of unique values in each column.\n",
        "unique_values_counts = application_df.nunique()\n",
        "print(unique_values_counts)"
      ]
    },
    {
      "cell_type": "code",
      "execution_count": 4,
      "metadata": {
        "colab": {
          "base_uri": "https://localhost:8080/"
        },
        "id": "gqjArK69ArKC",
        "outputId": "23ffcf0d-6a7f-45ea-d8bb-1e9f83003294"
      },
      "outputs": [
        {
          "output_type": "stream",
          "name": "stdout",
          "text": [
            "T3     27037\n",
            "T4      1542\n",
            "T6      1216\n",
            "T5      1173\n",
            "T19     1065\n",
            "T8       737\n",
            "T7       725\n",
            "T10      528\n",
            "T9       156\n",
            "T13       66\n",
            "T12       27\n",
            "T2        16\n",
            "T25        3\n",
            "T14        3\n",
            "T29        2\n",
            "T15        2\n",
            "T17        1\n",
            "Name: APPLICATION_TYPE, dtype: int64\n"
          ]
        }
      ],
      "source": [
        "# Look at APPLICATION_TYPE value counts for binning\n",
        "print(application_df['APPLICATION_TYPE'].value_counts())"
      ]
    },
    {
      "cell_type": "code",
      "execution_count": 5,
      "metadata": {
        "colab": {
          "base_uri": "https://localhost:8080/"
        },
        "id": "29yDrO4AArKD",
        "outputId": "73b93115-7aa5-4c47-b516-7ae822c3b47c"
      },
      "outputs": [
        {
          "output_type": "execute_result",
          "data": {
            "text/plain": [
              "T3       27037\n",
              "Other     2266\n",
              "T4        1542\n",
              "T6        1216\n",
              "T5        1173\n",
              "T19       1065\n",
              "Name: APPLICATION_TYPE, dtype: int64"
            ]
          },
          "metadata": {},
          "execution_count": 5
        }
      ],
      "source": [
        "# Choose a cutoff value and create a list of application types to be replaced\n",
        "# use the variable name `application_types_to_replace`\n",
        "application_type_counts = application_df['APPLICATION_TYPE'].value_counts()\n",
        "cutoff_value = 1000\n",
        "application_types_to_replace = application_type_counts[application_type_counts < cutoff_value].index.tolist()\n",
        "# Replace in dataframe\n",
        "for app in application_types_to_replace:\n",
        "    application_df['APPLICATION_TYPE'] = application_df['APPLICATION_TYPE'].replace(app,\"Other\")\n",
        "\n",
        "# Check to make sure binning was successful\n",
        "application_df['APPLICATION_TYPE'].value_counts()"
      ]
    },
    {
      "cell_type": "code",
      "execution_count": 6,
      "metadata": {
        "colab": {
          "base_uri": "https://localhost:8080/"
        },
        "id": "gCddt0c8ArKE",
        "outputId": "d9b49940-15d9-4779-e4a2-d7d2171e1ed0"
      },
      "outputs": [
        {
          "output_type": "stream",
          "name": "stdout",
          "text": [
            "C1000    17326\n",
            "C2000     6074\n",
            "C1200     4837\n",
            "C3000     1918\n",
            "C2100     1883\n",
            "         ...  \n",
            "C4120        1\n",
            "C8210        1\n",
            "C2561        1\n",
            "C4500        1\n",
            "C2150        1\n",
            "Name: CLASSIFICATION, Length: 71, dtype: int64\n"
          ]
        }
      ],
      "source": [
        "# Look at CLASSIFICATION value counts for binning\n",
        "print(application_df['CLASSIFICATION'].value_counts())"
      ]
    },
    {
      "cell_type": "code",
      "execution_count": 7,
      "metadata": {
        "colab": {
          "base_uri": "https://localhost:8080/"
        },
        "id": "NcauKG8bArKF",
        "outputId": "c37ee5b2-6f05-4d6c-edf5-7717daaa4f1f"
      },
      "outputs": [
        {
          "output_type": "stream",
          "name": "stdout",
          "text": [
            "C1000    17326\n",
            "C2000     6074\n",
            "C1200     4837\n",
            "C3000     1918\n",
            "C2100     1883\n",
            "C7000      777\n",
            "C1700      287\n",
            "C4000      194\n",
            "C5000      116\n",
            "C1270      114\n",
            "C2700      104\n",
            "C2800       95\n",
            "C7100       75\n",
            "C1300       58\n",
            "C1280       50\n",
            "C1230       36\n",
            "C1400       34\n",
            "C7200       32\n",
            "C2300       32\n",
            "C1240       30\n",
            "C8000       20\n",
            "C7120       18\n",
            "C1500       16\n",
            "C1800       15\n",
            "C6000       15\n",
            "C1250       14\n",
            "C8200       11\n",
            "C1238       10\n",
            "C1278       10\n",
            "C1235        9\n",
            "C1237        9\n",
            "C7210        7\n",
            "C2400        6\n",
            "C1720        6\n",
            "C4100        6\n",
            "C1257        5\n",
            "C1600        5\n",
            "C1260        3\n",
            "C2710        3\n",
            "C0           3\n",
            "C3200        2\n",
            "C1234        2\n",
            "C1246        2\n",
            "C1267        2\n",
            "C1256        2\n",
            "Name: CLASSIFICATION, dtype: int64\n"
          ]
        }
      ],
      "source": [
        "# You may find it helpful to look at CLASSIFICATION value counts >1\n",
        "classification_counts = application_df['CLASSIFICATION'].value_counts()\n",
        "classification_counts_greater_than_1 = classification_counts[classification_counts > 1]\n",
        "print(classification_counts_greater_than_1)"
      ]
    },
    {
      "cell_type": "code",
      "execution_count": 8,
      "metadata": {
        "colab": {
          "base_uri": "https://localhost:8080/"
        },
        "id": "TnGaLcX7ArKG",
        "outputId": "862b742d-937a-451d-d740-a696482dc485"
      },
      "outputs": [
        {
          "output_type": "execute_result",
          "data": {
            "text/plain": [
              "C1000    17326\n",
              "C2000     6074\n",
              "C1200     4837\n",
              "Other     2261\n",
              "C3000     1918\n",
              "C2100     1883\n",
              "Name: CLASSIFICATION, dtype: int64"
            ]
          },
          "metadata": {},
          "execution_count": 8
        }
      ],
      "source": [
        "# Choose a cutoff value and create a list of classifications to be replaced\n",
        "# use the variable name `classifications_to_replace`\n",
        "classification_counts = application_df['CLASSIFICATION'].value_counts()\n",
        "cutoff_value = 1500\n",
        "classifications_to_replace = classification_counts[classification_counts < cutoff_value].index.tolist()\n",
        "# Replace in dataframe\n",
        "for cls in classifications_to_replace:\n",
        "    application_df['CLASSIFICATION'] = application_df['CLASSIFICATION'].replace(cls,\"Other\")\n",
        "\n",
        "# Check to make sure binning was successful\n",
        "application_df['CLASSIFICATION'].value_counts()"
      ]
    },
    {
      "cell_type": "code",
      "execution_count": 10,
      "metadata": {
        "id": "Znm0PS7oArKH"
      },
      "outputs": [],
      "source": [
        "# Convert categorical data to numeric with `pd.get_dummies`\n",
        "encoded_application_df = pd.get_dummies(application_df)\n"
      ]
    },
    {
      "cell_type": "code",
      "execution_count": 11,
      "metadata": {
        "id": "poY_-KxmArKI"
      },
      "outputs": [],
      "source": [
        "# Split our preprocessed data into our features and target arrays\n",
        "from sklearn.model_selection import train_test_split\n",
        "X = encoded_application_df.drop(columns=[\"IS_SUCCESSFUL\"])\n",
        "y = encoded_application_df[\"IS_SUCCESSFUL\"]\n",
        "# Split the preprocessed data into a training and testing dataset\n",
        "X_train, X_test, y_train, y_test = train_test_split(X, y, random_state=1, test_size=0.2)"
      ]
    },
    {
      "cell_type": "code",
      "execution_count": 12,
      "metadata": {
        "id": "U_6RHeTaArKI"
      },
      "outputs": [],
      "source": [
        "# Create a StandardScaler instances\n",
        "scaler = StandardScaler()\n",
        "\n",
        "# Fit the StandardScaler\n",
        "X_scaler = scaler.fit(X_train)\n",
        "\n",
        "# Scale the data\n",
        "X_train_scaled = X_scaler.transform(X_train)\n",
        "X_test_scaled = X_scaler.transform(X_test)"
      ]
    },
    {
      "cell_type": "markdown",
      "metadata": {
        "id": "S9xdKwqKArKI"
      },
      "source": [
        "## Compile, Train and Evaluate the Model"
      ]
    },
    {
      "cell_type": "code",
      "execution_count": 14,
      "metadata": {
        "colab": {
          "base_uri": "https://localhost:8080/"
        },
        "id": "Gr_KH_hxArKJ",
        "outputId": "a522772b-36ef-46f9-b0a5-e8cf3364a54f"
      },
      "outputs": [
        {
          "output_type": "stream",
          "name": "stdout",
          "text": [
            "Model: \"sequential_3\"\n",
            "_________________________________________________________________\n",
            " Layer (type)                Output Shape              Param #   \n",
            "=================================================================\n",
            " dense (Dense)               (None, 80)                3280      \n",
            "                                                                 \n",
            " dense_1 (Dense)             (None, 30)                2430      \n",
            "                                                                 \n",
            " dense_2 (Dense)             (None, 1)                 31        \n",
            "                                                                 \n",
            "=================================================================\n",
            "Total params: 5,741\n",
            "Trainable params: 5,741\n",
            "Non-trainable params: 0\n",
            "_________________________________________________________________\n"
          ]
        }
      ],
      "source": [
        "# Define the model - deep neural net, i.e., the number of input features and hidden nodes for each layer.\n",
        "import tensorflow as tf\n",
        "from tensorflow.keras.models import Sequential\n",
        "from tensorflow.keras.layers import Dense\n",
        "nn = Sequential()\n",
        "nn = tf.keras.models.Sequential()\n",
        "\n",
        "# First hidden layer\n",
        "nn.add(Dense(units=80, activation='relu', input_dim=X_train.shape[1]))\n",
        "\n",
        "# Second hidden layer\n",
        "nn.add(Dense(units=30, activation='relu'))\n",
        "\n",
        "# Output layer\n",
        "nn.add(Dense(units=1, activation='sigmoid'))\n",
        "\n",
        "# Check the structure of the model\n",
        "nn.summary()"
      ]
    },
    {
      "cell_type": "code",
      "execution_count": 15,
      "metadata": {
        "id": "b3J2-AGFArKJ"
      },
      "outputs": [],
      "source": [
        "# Compile the model\n",
        "nn.compile(loss='binary_crossentropy', optimizer='adam', metrics=['accuracy'])"
      ]
    },
    {
      "cell_type": "code",
      "execution_count": 16,
      "metadata": {
        "colab": {
          "base_uri": "https://localhost:8080/"
        },
        "id": "Hrp6J-n0ArKJ",
        "outputId": "c0f12012-e5a5-4503-9d23-5c40f4c2fa1b"
      },
      "outputs": [
        {
          "output_type": "stream",
          "name": "stderr",
          "text": [
            "WARNING:tensorflow:`period` argument is deprecated. Please use `save_freq` to specify the frequency in number of batches seen.\n"
          ]
        },
        {
          "output_type": "stream",
          "name": "stdout",
          "text": [
            "Epoch 1/50\n",
            "858/858 - 3s - loss: 0.5717 - accuracy: 0.7210 - 3s/epoch - 4ms/step\n",
            "Epoch 2/50\n",
            "858/858 - 2s - loss: 0.5588 - accuracy: 0.7282 - 2s/epoch - 2ms/step\n",
            "Epoch 3/50\n",
            "858/858 - 1s - loss: 0.5549 - accuracy: 0.7299 - 1s/epoch - 2ms/step\n",
            "Epoch 4/50\n",
            "858/858 - 1s - loss: 0.5543 - accuracy: 0.7309 - 1s/epoch - 2ms/step\n",
            "Epoch 5/50\n",
            "858/858 - 1s - loss: 0.5528 - accuracy: 0.7309 - 1s/epoch - 1ms/step\n",
            "Epoch 6/50\n",
            "858/858 - 1s - loss: 0.5507 - accuracy: 0.7317 - 1s/epoch - 2ms/step\n",
            "Epoch 7/50\n",
            "858/858 - 1s - loss: 0.5505 - accuracy: 0.7332 - 1s/epoch - 2ms/step\n",
            "Epoch 8/50\n",
            "858/858 - 1s - loss: 0.5499 - accuracy: 0.7336 - 1s/epoch - 1ms/step\n",
            "Epoch 9/50\n",
            "858/858 - 1s - loss: 0.5493 - accuracy: 0.7342 - 1s/epoch - 2ms/step\n",
            "Epoch 10/50\n",
            "858/858 - 2s - loss: 0.5491 - accuracy: 0.7330 - 2s/epoch - 2ms/step\n",
            "Epoch 11/50\n",
            "858/858 - 3s - loss: 0.5483 - accuracy: 0.7344 - 3s/epoch - 3ms/step\n",
            "Epoch 12/50\n",
            "858/858 - 1s - loss: 0.5480 - accuracy: 0.7344 - 1s/epoch - 1ms/step\n",
            "Epoch 13/50\n",
            "858/858 - 2s - loss: 0.5472 - accuracy: 0.7357 - 2s/epoch - 2ms/step\n",
            "Epoch 14/50\n",
            "858/858 - 1s - loss: 0.5471 - accuracy: 0.7335 - 1s/epoch - 2ms/step\n",
            "Epoch 15/50\n",
            "858/858 - 1s - loss: 0.5468 - accuracy: 0.7352 - 1s/epoch - 1ms/step\n",
            "Epoch 16/50\n",
            "858/858 - 1s - loss: 0.5461 - accuracy: 0.7359 - 1s/epoch - 1ms/step\n",
            "Epoch 17/50\n",
            "858/858 - 1s - loss: 0.5464 - accuracy: 0.7349 - 1s/epoch - 2ms/step\n",
            "Epoch 18/50\n",
            "858/858 - 2s - loss: 0.5459 - accuracy: 0.7360 - 2s/epoch - 2ms/step\n",
            "Epoch 19/50\n",
            "858/858 - 2s - loss: 0.5454 - accuracy: 0.7365 - 2s/epoch - 2ms/step\n",
            "Epoch 20/50\n",
            "858/858 - 1s - loss: 0.5452 - accuracy: 0.7362 - 1s/epoch - 2ms/step\n",
            "Epoch 21/50\n",
            "858/858 - 1s - loss: 0.5451 - accuracy: 0.7354 - 1s/epoch - 2ms/step\n",
            "Epoch 22/50\n",
            "858/858 - 1s - loss: 0.5446 - accuracy: 0.7373 - 1s/epoch - 2ms/step\n",
            "Epoch 23/50\n",
            "858/858 - 1s - loss: 0.5446 - accuracy: 0.7369 - 1s/epoch - 1ms/step\n",
            "Epoch 24/50\n",
            "858/858 - 1s - loss: 0.5447 - accuracy: 0.7367 - 1s/epoch - 1ms/step\n",
            "Epoch 25/50\n",
            "858/858 - 1s - loss: 0.5445 - accuracy: 0.7369 - 1s/epoch - 2ms/step\n",
            "Epoch 26/50\n",
            "858/858 - 1s - loss: 0.5440 - accuracy: 0.7372 - 1s/epoch - 1ms/step\n",
            "Epoch 27/50\n",
            "858/858 - 2s - loss: 0.5435 - accuracy: 0.7370 - 2s/epoch - 2ms/step\n",
            "Epoch 28/50\n",
            "858/858 - 2s - loss: 0.5436 - accuracy: 0.7367 - 2s/epoch - 2ms/step\n",
            "Epoch 29/50\n",
            "858/858 - 1s - loss: 0.5437 - accuracy: 0.7368 - 1s/epoch - 1ms/step\n",
            "Epoch 30/50\n",
            "858/858 - 1s - loss: 0.5434 - accuracy: 0.7371 - 1s/epoch - 1ms/step\n",
            "Epoch 31/50\n",
            "858/858 - 1s - loss: 0.5436 - accuracy: 0.7373 - 1s/epoch - 1ms/step\n",
            "Epoch 32/50\n",
            "858/858 - 2s - loss: 0.5433 - accuracy: 0.7362 - 2s/epoch - 2ms/step\n",
            "Epoch 33/50\n",
            "858/858 - 1s - loss: 0.5429 - accuracy: 0.7372 - 1s/epoch - 1ms/step\n",
            "Epoch 34/50\n",
            "858/858 - 1s - loss: 0.5432 - accuracy: 0.7376 - 1s/epoch - 1ms/step\n",
            "Epoch 35/50\n",
            "858/858 - 1s - loss: 0.5425 - accuracy: 0.7372 - 1s/epoch - 1ms/step\n",
            "Epoch 36/50\n",
            "858/858 - 2s - loss: 0.5425 - accuracy: 0.7365 - 2s/epoch - 2ms/step\n",
            "Epoch 37/50\n",
            "858/858 - 2s - loss: 0.5426 - accuracy: 0.7377 - 2s/epoch - 2ms/step\n",
            "Epoch 38/50\n",
            "858/858 - 1s - loss: 0.5426 - accuracy: 0.7375 - 1s/epoch - 1ms/step\n",
            "Epoch 39/50\n",
            "858/858 - 1s - loss: 0.5424 - accuracy: 0.7369 - 1s/epoch - 2ms/step\n",
            "Epoch 40/50\n",
            "858/858 - 2s - loss: 0.5423 - accuracy: 0.7375 - 2s/epoch - 2ms/step\n",
            "Epoch 41/50\n",
            "858/858 - 3s - loss: 0.5421 - accuracy: 0.7375 - 3s/epoch - 3ms/step\n",
            "Epoch 42/50\n",
            "858/858 - 2s - loss: 0.5415 - accuracy: 0.7383 - 2s/epoch - 3ms/step\n",
            "Epoch 43/50\n",
            "858/858 - 4s - loss: 0.5417 - accuracy: 0.7376 - 4s/epoch - 5ms/step\n",
            "Epoch 44/50\n",
            "858/858 - 3s - loss: 0.5417 - accuracy: 0.7371 - 3s/epoch - 3ms/step\n",
            "Epoch 45/50\n",
            "858/858 - 2s - loss: 0.5417 - accuracy: 0.7378 - 2s/epoch - 2ms/step\n",
            "Epoch 46/50\n",
            "858/858 - 1s - loss: 0.5418 - accuracy: 0.7377 - 1s/epoch - 1ms/step\n",
            "Epoch 47/50\n",
            "858/858 - 1s - loss: 0.5412 - accuracy: 0.7387 - 1s/epoch - 1ms/step\n",
            "Epoch 48/50\n",
            "858/858 - 1s - loss: 0.5416 - accuracy: 0.7377 - 1s/epoch - 1ms/step\n",
            "Epoch 49/50\n",
            "858/858 - 1s - loss: 0.5415 - accuracy: 0.7370 - 1s/epoch - 2ms/step\n",
            "Epoch 50/50\n",
            "858/858 - 2s - loss: 0.5413 - accuracy: 0.7385 - 2s/epoch - 2ms/step\n"
          ]
        }
      ],
      "source": [
        "# Train the model\n",
        "fit_model = nn.fit(X_train_scaled, y_train, epochs=50, callbacks=[tf.keras.callbacks.ModelCheckpoint(\"AlphabetSoupCharity.h5\", save_weights_only=True, save_freq='epoch', period=5)], verbose=2)"
      ]
    },
    {
      "cell_type": "code",
      "execution_count": 17,
      "metadata": {
        "colab": {
          "base_uri": "https://localhost:8080/"
        },
        "id": "v73YRP2yArKK",
        "outputId": "7fbd5629-6a95-458d-9197-d1a435ec52c3"
      },
      "outputs": [
        {
          "output_type": "stream",
          "name": "stdout",
          "text": [
            "215/215 - 0s - loss: 0.5597 - accuracy: 0.7254 - 470ms/epoch - 2ms/step\n",
            "Loss: 0.5597078204154968, Accuracy: 0.7253644466400146\n"
          ]
        }
      ],
      "source": [
        "# Evaluate the model using the test data\n",
        "model_loss, model_accuracy = nn.evaluate(X_test_scaled,y_test,verbose=2)\n",
        "print(f\"Loss: {model_loss}, Accuracy: {model_accuracy}\")"
      ]
    },
    {
      "cell_type": "code",
      "execution_count": 18,
      "metadata": {
        "id": "odSvrmFDArKK"
      },
      "outputs": [],
      "source": [
        "# Export our model to HDF5 file\n",
        "nn.save(\"AlphabetSoupCharity.h5\")"
      ]
    }
  ],
  "metadata": {
    "kernelspec": {
      "display_name": "Python 3",
      "language": "python",
      "name": "python3"
    },
    "language_info": {
      "codemirror_mode": {
        "name": "ipython",
        "version": 3
      },
      "file_extension": ".py",
      "mimetype": "text/x-python",
      "name": "python",
      "nbconvert_exporter": "python",
      "pygments_lexer": "ipython3",
      "version": "3.-1.-1"
    },
    "vscode": {
      "interpreter": {
        "hash": "31f2aee4e71d21fbe5cf8b01ff0e069b9275f58929596ceb00d14d90e3e16cd6"
      }
    },
    "colab": {
      "provenance": []
    }
  },
  "nbformat": 4,
  "nbformat_minor": 0
}